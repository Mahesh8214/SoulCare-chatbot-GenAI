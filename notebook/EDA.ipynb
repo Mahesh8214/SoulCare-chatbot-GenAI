{
 "cells": [
  {
   "cell_type": "code",
   "execution_count": null,
   "id": "3ff614b0",
   "metadata": {},
   "outputs": [],
   "source": [
    "from langchain.embeddings import HuggingFaceBgeEmbeddings\n",
    "from langchain.document_loaders import PyPDFLoader, DirectoryLoader\n",
    "from langchain.vectorstores import Chroma\n",
    "from langchain.chains import RetrievalQA\n",
    "from langchain.prompts import PromptTemplate\n",
    "from langchain.text_splitter import RecursiveCharacterTextSplitter\n",
    "from langchain_groq import ChatGroq\n",
    "import os\n",
    "import gradio as gr"
   ]
  },
  {
   "cell_type": "code",
   "execution_count": null,
   "id": "b5caba84",
   "metadata": {},
   "outputs": [],
   "source": [
    "def initialize_llm():\n",
    "    llm = ChatGroq(\n",
    "        temperature=0,\n",
    "        groq_api_key=\"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\",  # Add your API key here\n",
    "        model_name=\"llama-3.3-70b-versatile\"\n",
    "    )\n",
    "    return llm"
   ]
  },
  {
   "cell_type": "code",
   "execution_count": null,
   "id": "28d6dd6f",
   "metadata": {},
   "outputs": [],
   "source": [
    "def create_vector_db():\n",
    "    loader = DirectoryLoader(\"./data\", glob='*.pdf', loader_cls=PyPDFLoader)\n",
    "    documents = loader.load()\n",
    "    text_splitter = RecursiveCharacterTextSplitter(chunk_size=500, chunk_overlap=50)\n",
    "    texts = text_splitter.split_documents(documents)\n",
    "    embeddings = HuggingFaceBgeEmbeddings(model_name='sentence-transformers/all-MiniLM-L6-v2')\n",
    "    vector_db = Chroma.from_documents(texts, embeddings, persist_directory='./chroma_db')\n",
    "    vector_db.persist()\n",
    "    print(\"ChromaDB created and data saved\")\n",
    "    return vector_db"
   ]
  },
  {
   "cell_type": "code",
   "execution_count": null,
   "id": "8749aecc",
   "metadata": {},
   "outputs": [],
   "source": [
    "def setup_qa_chain(vector_db, llm):\n",
    "    retriever = vector_db.as_retriever()\n",
    "    prompt_template = \"\"\"\n",
    "You are a compassionate mental health support assistant designed to:\n",
    "1. Analyze user sentiment (sadness, anxiety, stress, happiness).\n",
    "2. Provide emotional support and coping strategies.\n",
    "3. Escalate to professionals if crisis detected.\n",
    "\n",
    "**Strict Rules**:\n",
    "- NEVER diagnose or give medical advice.\n",
    "- If user mentions self-harm/suicidal thoughts, respond:\n",
    "  \"I’m deeply concerned. Please contact [crisis hotline] immediately: [INSERT_LOCAL_HOTLINE].\"\n",
    "\n",
    "**Context** (for knowledge grounding):\n",
    "{context}\n",
    "\n",
    "**User Input**:\n",
    "{question}\n",
    "\n",
    "**Response Guidelines**:\n",
    "1. **Start empathetically**: \"I hear you. How can I support you today?\"\n",
    "2. **Validate**: \"That sounds really difficult. You’re not alone.\"\n",
    "3. **Ask open-ended questions**: \"What’s been on your mind lately?\"\n",
    "4. **Suggest coping strategies** (tailored to sentiment):\n",
    "   - Anxiety: \"Try box breathing: inhale 4s, hold 4s, exhale 4s.\"\n",
    "   - Sadness: \"Small acts of self-care can help. What usually comforts you?\"\n",
    "5. **Close supportively**: \"I’m here whenever you need to talk.\"\n",
    "\n",
    "**Final Answer** (combine context + guidelines):\n",
    "\"\"\"\n",
    "\n",
    "    PROMPT = PromptTemplate(\n",
    "        template=prompt_template,\n",
    "        input_variables=[\"context\", \"question\"]\n",
    "    )\n",
    "    \n",
    "    \n",
    "    qa_chain = RetrievalQA.from_chain_type(\n",
    "        llm=llm,\n",
    "        chain_type=\"stuff\",\n",
    "        retriever=retriever,\n",
    "        chain_type_kwargs={\"prompt\": PROMPT}\n",
    "    )\n",
    "    return qa_chain"
   ]
  },
  {
   "cell_type": "code",
   "execution_count": null,
   "id": "d91fec1e",
   "metadata": {},
   "outputs": [
    {
     "name": "stderr",
     "output_type": "stream",
     "text": [
      "e:\\anaconda3\\envs\\medi_bot\\lib\\site-packages\\tqdm\\auto.py:21: TqdmWarning: IProgress not found. Please update jupyter and ipywidgets. See https://ipywidgets.readthedocs.io/en/stable/user_install.html\n",
      "  from .autonotebook import tqdm as notebook_tqdm\n"
     ]
    },
    {
     "name": "stdout",
     "output_type": "stream",
     "text": [
      "Initializing Chatbot.........\n"
     ]
    },
    {
     "name": "stderr",
     "output_type": "stream",
     "text": [
      "C:\\Users\\HP\\AppData\\Local\\Temp\\ipykernel_10144\\3844665402.py:83: LangChainDeprecationWarning: The class `HuggingFaceBgeEmbeddings` was deprecated in LangChain 0.2.2 and will be removed in 1.0. An updated version of the class exists in the :class:`~langchain-huggingface package and should be used instead. To use it run `pip install -U :class:`~langchain-huggingface` and import as `from :class:`~langchain_huggingface import HuggingFaceEmbeddings``.\n",
      "  embeddings = HuggingFaceBgeEmbeddings(model_name='sentence-transformers/all-MiniLM-L6-v2')\n",
      "C:\\Users\\HP\\AppData\\Local\\Temp\\ipykernel_10144\\3844665402.py:84: LangChainDeprecationWarning: The class `Chroma` was deprecated in LangChain 0.2.9 and will be removed in 1.0. An updated version of the class exists in the :class:`~langchain-chroma package and should be used instead. To use it run `pip install -U :class:`~langchain-chroma` and import as `from :class:`~langchain_chroma import Chroma``.\n",
      "  vector_db = Chroma(persist_directory=db_path, embedding_function=embeddings)\n"
     ]
    },
    {
     "name": "stdout",
     "output_type": "stream",
     "text": [
      "Running on local URL:  http://127.0.0.1:7861\n",
      "\n",
      "To create a public link, set `share=True` in `launch()`.\n"
     ]
    },
    {
     "data": {
      "text/html": [
       "<div><iframe src=\"http://127.0.0.1:7861/\" width=\"100%\" height=\"800\" allow=\"autoplay; camera; microphone; clipboard-read; clipboard-write;\" frameborder=\"0\" allowfullscreen></iframe></div>"
      ],
      "text/plain": [
       "<IPython.core.display.HTML object>"
      ]
     },
     "metadata": {},
     "output_type": "display_data"
    },
    {
     "data": {
      "text/plain": []
     },
     "execution_count": 1,
     "metadata": {},
     "output_type": "execute_result"
    }
   ],
   "source": [
    "\n",
    "\n",
    "print(\"Initializing Chatbot.........\")\n",
    "llm = initialize_llm()\n",
    "\n",
    "db_path = \"./chroma_db\"\n",
    "\n",
    "if not os.path.exists(db_path):\n",
    "    vector_db = create_vector_db()\n",
    "else:\n",
    "    embeddings = HuggingFaceBgeEmbeddings(model_name='sentence-transformers/all-MiniLM-L6-v2')\n",
    "    vector_db = Chroma(persist_directory=db_path, embedding_function=embeddings)\n",
    "qa_chain = setup_qa_chain(vector_db, llm)\n",
    "\n",
    "def chatbot_response(message, history):\n",
    "    if not message.strip():\n",
    "        return \"Please provide a valid input\"\n",
    "    response = qa_chain.run(message)\n",
    "    return response\n",
    "\n",
    "with gr.Blocks(theme=gr.themes.Soft(\n",
    "    primary_hue=\"teal\",\n",
    "    secondary_hue=\"emerald\",\n",
    "    neutral_hue=\"slate\",\n",
    "    text_size=\"lg\",\n",
    "    spacing_size=\"lg\",\n",
    "    radius_size=\"lg\",\n",
    ")) as app:\n",
    "    \n",
    "    gr.Markdown(\"\"\"\n",
    "    <div style='text-align: center; background: linear-gradient(to right, #0f766e, #0d9488); \n",
    "    padding: 20px; border-radius: 10px; color: white;'>\n",
    "    <h1 style='margin-bottom: 10px;'>🧠 MindCare Companion 🤖</h1>\n",
    "    <p style='margin-top: 0;'>Your compassionate mental health support chatbot</p>\n",
    "    </div>\n",
    "    \"\"\")\n",
    "    \n",
    "    with gr.Row():\n",
    "        with gr.Column(scale=1):\n",
    "            gr.Markdown(\"\"\"\n",
    "            ### About This Chatbot\n",
    "            - Provides general mental health support\n",
    "            - Offers non-judgmental listening\n",
    "            - Suggests coping strategies\n",
    "            \"\"\")\n",
    "            \n",
    "            gr.HTML(\"\"\"\n",
    "            <div style='background: #f0fdfa; padding: 15px; border-radius: 10px; border-left: 4px solid #0d9488;'>\n",
    "            <p><strong>Note:</strong> For emergencies, please contact a licensed professional or call your local helpline.</p>\n",
    "            </div>\n",
    "            \"\"\")\n",
    "            \n",
    "        with gr.Column(scale=2):\n",
    "            chatbot = gr.ChatInterface(\n",
    "                fn=chatbot_response,\n",
    "                title=\"\",\n",
    "                examples=[\n",
    "                    \"How can I manage anxiety?\",\n",
    "                    \"I'm feeling depressed today\",\n",
    "                    \"Suggest some stress relief techniques\"\n",
    "                ],\n",
    "                submit_btn=\"Send\",\n",
    "                retry_btn=\"Regenerate\",\n",
    "                undo_btn=\"Delete\",\n",
    "                clear_btn=\"Clear\",\n",
    "            )\n",
    "    \n",
    "    gr.Markdown(\"\"\"\n",
    "    <div style='text-align: center; margin-top: 20px; color: #64748b; font-size: 0.9em;'>\n",
    "    Confidential and secure | Your privacy is protected\n",
    "    </div>\n",
    "    \"\"\")\n",
    "\n",
    "app.launch(\n",
    "    height=800,\n",
    "    favicon_path=\"https://emojicdn.elk.sh/🧠\",  # Optional brain emoji favicon\n",
    ")"
   ]
  },
  {
   "cell_type": "code",
   "execution_count": 2,
   "id": "9dfa8803",
   "metadata": {},
   "outputs": [
    {
     "name": "stdout",
     "output_type": "stream",
     "text": [
      "Closing server running on port: 7861\n"
     ]
    }
   ],
   "source": [
    "app.close()"
   ]
  },
  {
   "cell_type": "code",
   "execution_count": null,
   "id": "772620f1",
   "metadata": {},
   "outputs": [],
   "source": []
  }
 ],
 "metadata": {
  "kernelspec": {
   "display_name": "medi_bot",
   "language": "python",
   "name": "python3"
  },
  "language_info": {
   "codemirror_mode": {
    "name": "ipython",
    "version": 3
   },
   "file_extension": ".py",
   "mimetype": "text/x-python",
   "name": "python",
   "nbconvert_exporter": "python",
   "pygments_lexer": "ipython3",
   "version": "3.9.23"
  }
 },
 "nbformat": 4,
 "nbformat_minor": 5
}
